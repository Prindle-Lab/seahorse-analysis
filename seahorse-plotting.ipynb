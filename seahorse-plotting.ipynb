{
 "cells": [
  {
   "cell_type": "code",
   "execution_count": 1,
   "metadata": {
    "collapsed": true
   },
   "outputs": [],
   "source": [
    "import numpy as np\n",
    "import pandas as pd\n",
    "import string\n",
    "import re\n",
    "import os\n",
    "\n",
    "# Plotting:\n",
    "import matplotlib.pyplot as plt\n",
    "import seaborn as sns\n",
    "sns.set_style(\"white\")\n",
    "\n",
    "# Import the seaborn palette, change for different applications.\n",
    "from palettable.tableau import PurpleGray_6 as palette\n",
    "\n",
    "sns.set_palette(palette.mpl_colors) #Set the seaborn palette\n",
    "palette = palette.mpl_colors #Store the seaborn palette\n",
    "\n",
    "# Plot output:\n",
    "from matplotlib.backends.backend_pdf import PdfPages\n",
    "import os\n",
    "\n",
    "def readplatemap(platemap: str, levelnames: list = ['column', 'row', 'Well']) -> pd.DataFrame:\n",
    "    ''' Reads in an Excel platemap to a dataframe.\n",
    "    Parameters:\n",
    "        platemap: path to .xlsx file with the platemap\n",
    "        levelnames: list of the different levels in the platemap (seperated by commas)\n",
    "    Return:\n",
    "        DataFrame: dataframe of the annotated levelnames and the wells they belong to.\n",
    "    '''\n",
    "    log = \"platemap read from: \" + platemap\n",
    "    platemap = pd.read_excel(platemap, sheetname = 0, header = 1, index_col = 1) #If the platemap is a .xlsx sheet read it in using read_excel:\n",
    "    platemap = platemap.loc[platemap.index.isin(list(string.ascii_letters)), platemap.columns.isin(range(0,25))] #Remove any columns or rows that aren't named by integer or letter respectively:\n",
    "    platemap.index.name = 'row' #Name the platemap index\n",
    "    platemap = pd.melt(platemap.reset_index(col_fill = ['row']), id_vars='row', var_name='column') #Reshape the platemap into a long form\n",
    "    platemap['Well'] = platemap['row'] + platemap['column'].astype(str) #concatonate to get the row column\n",
    "    annotation = platemap['value'].str.split(pat = ',', expand = True) #split the annotations on commas to produce different levels\n",
    "    annotation.columns = levelnames[:-1] #ignore the well column\n",
    "    platemap = pd.concat([platemap, annotation], axis = 1).drop('value', axis = 1) #join the annotations with the wells again and remove the old value variable\n",
    "    platemap = platemap.replace('NA', np.nan)\n",
    "    platemap['Well'] = platemap['Well'].map(lambda x: x if len(x) == 3 else x[0]+'0'+x[1])\n",
    "    return(platemap)\n",
    "\n",
    "def parse_plate(xlsx: str, platemap:str, sheetname:str ='Raw', levelnames:list=['row','column','Well']) -> pd.DataFrame:\n",
    "    ''' Reads in the plate data from an Excel sheet, annotates it with data from a platemap and transfers timestamps to hours'''\n",
    "    # read in file:\n",
    "    plate = pd.read_excel(xlsx, sheetname=sheetname)\n",
    "    log = \"Data read from \" + xlsx + \".\"\n",
    "    print(log)\n",
    "    platemap = readplatemap('platemap.xlsx', levelnames=levelnames)\n",
    "    plate = platemap.merge(plate)\n",
    "    plate['measurement_step'] = plate['Tick'] % 12\n",
    "    \n",
    "    hours = plate['TimeStamp'].str.split(':', expand=True)\n",
    "    hours.columns = ['hours', 'minutes', 'seconds']\n",
    "    hours['year'] = '2018'\n",
    "    hours['day'] = '1'\n",
    "    hours['month'] = '1'\n",
    "    hours = pd.to_datetime(hours)\n",
    "    hours = hours-hours[0]\n",
    "    hours = hours.dt.total_seconds()/60/60\n",
    "    plate['Time (hrs)'] = hours\n",
    "    return(plate)\n",
    "\n",
    "\n",
    "def plot_variable(data, condition='strain', value = 'pH', correct=True):\n",
    "    pdf = PdfPages('test.pdf')\n",
    "    if correct:\n",
    "        data = data.query('measurement_step == 0')\n",
    "    # plot with hues\n",
    "    sns.tsplot(data = data, condition = condition, unit = 'Well', time = 'Time (hrs)', value = value)\n",
    "    plt.suptitle(condition)\n",
    "    plt.show()\n",
    "\n",
    "    # plot seperately\n",
    "    for name,sub in data.groupby(by = ['strain']):\n",
    "        fig, ax = plt.subplots()\n",
    "        ax = sns.tsplot(ax = ax, data = sub, condition = condition, unit = 'Well', time = 'Time (hrs)', value = value)\n",
    "        # ax2 =ax.twinx()\n",
    "        # sns.tsplot(data = sub, condition = condition, unit = 'Well', time = 'Time (hrs)', value = 'pH')\n",
    "        plt.suptitle(name)\n",
    "        pdf.savefig()\n",
    "        plt.show()\n",
    "    pdf.close()\n",
    "    return()\n",
    "\n",
    "# how to get derivatives\n",
    "# plate['pH_diff'] = plate.groupby('Well')['pH'].diff().diff()"
   ]
  },
  {
   "cell_type": "code",
   "execution_count": 5,
   "metadata": {},
   "outputs": [
    {
     "name": "stdout",
     "output_type": "stream",
     "text": [
      "Data read from 2018 03 29 replicate 02 09 assay KS.xlsx.\n"
     ]
    }
   ],
   "source": [
    "# attempt at user input\n",
    "xlsx = input(prompt='Path to data .xlsx:')\n",
    "platemap = input(prompt='Path to platemap .xlsx:')\n",
    "\n",
    "\n",
    "xlsx = '2018 03 29 replicate 02 09 assay KS.xlsx'\n",
    "platemap = 'platemap.xlsx'\n",
    "levelnames = ['strain','Well']\n",
    "\n",
    "plate = parse_plate(xlsx = '2018 03 29 replicate 02 09 assay KS.xlsx',platemap = 'platemap.xlsx', levelnames = ['strain','Well'])"
   ]
  },
  {
   "cell_type": "code",
   "execution_count": 2,
   "metadata": {},
   "outputs": [
    {
     "name": "stdout",
     "output_type": "stream",
     "text": [
      "Column to plot:\n",
      "Column to group replicates by:\n"
     ]
    },
    {
     "ename": "NameError",
     "evalue": "name 'plate' is not defined",
     "output_type": "error",
     "traceback": [
      "\u001b[0;31m---------------------------------------------------------------------------\u001b[0m",
      "\u001b[0;31mNameError\u001b[0m                                 Traceback (most recent call last)",
      "\u001b[0;32m<ipython-input-2-f7e78c6ad718>\u001b[0m in \u001b[0;36m<module>\u001b[0;34m()\u001b[0m\n\u001b[1;32m      5\u001b[0m \u001b[0mvalue\u001b[0m \u001b[0;34m=\u001b[0m \u001b[0;34m'pH'\u001b[0m\u001b[0;34m\u001b[0m\u001b[0m\n\u001b[1;32m      6\u001b[0m \u001b[0mcondition\u001b[0m \u001b[0;34m=\u001b[0m \u001b[0;34m'strain'\u001b[0m\u001b[0;34m\u001b[0m\u001b[0m\n\u001b[0;32m----> 7\u001b[0;31m \u001b[0mplot_variable\u001b[0m\u001b[0;34m(\u001b[0m\u001b[0mdata\u001b[0m\u001b[0;34m=\u001b[0m\u001b[0mplate\u001b[0m\u001b[0;34m,\u001b[0m \u001b[0mcondition\u001b[0m\u001b[0;34m=\u001b[0m\u001b[0mcondition\u001b[0m\u001b[0;34m,\u001b[0m\u001b[0mvalue\u001b[0m\u001b[0;34m=\u001b[0m\u001b[0mvalue\u001b[0m\u001b[0;34m)\u001b[0m\u001b[0;34m\u001b[0m\u001b[0m\n\u001b[0m",
      "\u001b[0;31mNameError\u001b[0m: name 'plate' is not defined"
     ]
    }
   ],
   "source": [
    "value = input('Column to plot:')\n",
    "condition = input(prompt='Column to group replicates by:')\n",
    "\n",
    "\n",
    "value = 'pH'\n",
    "condition = 'strain'\n",
    "plot_variable(data=plate, condition=condition,value=value)"
   ]
  },
  {
   "cell_type": "markdown",
   "metadata": {},
   "source": [
    "plate.query('Well == \"A01\"')['O2 (mmHg)'][0:36].plot()\n",
    "plt.axvline(12)"
   ]
  }
 ],
 "metadata": {
  "kernelspec": {
   "display_name": "Python [conda root]",
   "language": "python",
   "name": "conda-root-py"
  },
  "language_info": {
   "codemirror_mode": {
    "name": "ipython",
    "version": 3
   },
   "file_extension": ".py",
   "mimetype": "text/x-python",
   "name": "python",
   "nbconvert_exporter": "python",
   "pygments_lexer": "ipython3",
   "version": "3.6.1"
  }
 },
 "nbformat": 4,
 "nbformat_minor": 2
}
